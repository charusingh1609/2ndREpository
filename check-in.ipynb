{
 "cells": [
  {
   "cell_type": "code",
   "execution_count": 1,
   "id": "3386428e",
   "metadata": {},
   "outputs": [
    {
     "name": "stdout",
     "output_type": "stream",
     "text": [
      "Check-in cleared\n"
     ]
    }
   ],
   "source": [
    "airline=\"AirIndia\"\n",
    "luggage_weight=28\n",
    "AI_weight_limit=30\n",
    "EM_weight_limit=35\n",
    "if(airline==\"AirIndia\"):\n",
    "    if(luggage_weight<=AI_weight_limit):\n",
    "        print(\"Check-in cleared\")\n",
    "    else:\n",
    "        print(\"Remove some luggage and come back\")\n",
    "elif(airline==\"Emirates\"):\n",
    "    if(luggage_weight<=EM_weight_limit):\n",
    "        print(\"Check in cleared\")\n",
    "    else:\n",
    "        print(\"Remove some luggage and come back\")\n",
    "else:\n",
    "    print(\"Invalid airline\")\n"
   ]
  },
  {
   "cell_type": "code",
   "execution_count": null,
   "id": "796069ba",
   "metadata": {},
   "outputs": [],
   "source": []
  }
 ],
 "metadata": {
  "kernelspec": {
   "display_name": "Python 3",
   "language": "python",
   "name": "python3"
  },
  "language_info": {
   "codemirror_mode": {
    "name": "ipython",
    "version": 3
   },
   "file_extension": ".py",
   "mimetype": "text/x-python",
   "name": "python",
   "nbconvert_exporter": "python",
   "pygments_lexer": "ipython3",
   "version": "3.8.8"
  }
 },
 "nbformat": 4,
 "nbformat_minor": 5
}

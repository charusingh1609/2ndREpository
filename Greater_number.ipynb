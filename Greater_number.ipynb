{
 "cells": [
  {
   "cell_type": "code",
   "execution_count": 9,
   "metadata": {},
   "outputs": [
    {
     "name": "stdout",
     "output_type": "stream",
     "text": [
      "enter m: 1\n",
      "1\n",
      "enter n: 2\n",
      "2\n",
      "n is greater\n"
     ]
    }
   ],
   "source": [
    "m= input(\"enter m: \")\n",
    "print(m)\n",
    "n= input(\"enter n: \")\n",
    "print(n)\n",
    "if m>n:\n",
    "    print (\"m is greater\")\n",
    "elif m<n:\n",
    "    print (\"n is greater\")\n",
    "elif m==n:\n",
    "    print (\"equal\")\n",
    "else:\n",
    "    print (\"invalid\")   "
   ]
  },
  {
   "cell_type": "code",
   "execution_count": null,
   "metadata": {},
   "outputs": [],
   "source": []
  }
 ],
 "metadata": {
  "kernelspec": {
   "display_name": "Python 3",
   "language": "python",
   "name": "python3"
  },
  "language_info": {
   "codemirror_mode": {
    "name": "ipython",
    "version": 3
   },
   "file_extension": ".py",
   "mimetype": "text/x-python",
   "name": "python",
   "nbconvert_exporter": "python",
   "pygments_lexer": "ipython3",
   "version": "3.8.3"
  }
 },
 "nbformat": 4,
 "nbformat_minor": 4
}
